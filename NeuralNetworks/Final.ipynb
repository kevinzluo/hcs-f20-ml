{
 "cells": [
  {
   "cell_type": "code",
   "execution_count": 1,
   "metadata": {},
   "outputs": [],
   "source": [
    "# import required libraries\n",
    "import numpy as np\n",
    "import matplotlib.pyplot as plt\n",
    "import tensorflow as tf\n",
    "from tensorflow import keras\n",
    "from tensorflow.keras import layers\n",
    "import math"
   ]
  },
  {
   "cell_type": "code",
   "execution_count": 3,
   "metadata": {},
   "outputs": [],
   "source": [
    "# loading the data\n",
    "apple_data = np.load('./apple.npy')\n",
    "bread_data = np.load('./bread.npy')\n",
    "broccoli_data = np.load('./broccoli.npy')\n",
    "sandwich_data = np.load('./sandwich.npy')"
   ]
  },
  {
   "cell_type": "code",
   "execution_count": 4,
   "metadata": {},
   "outputs": [
    {
     "output_type": "display_data",
     "data": {
      "text/plain": "<Figure size 432x288 with 1 Axes>",
      "image/svg+xml": "<?xml version=\"1.0\" encoding=\"utf-8\" standalone=\"no\"?>\n<!DOCTYPE svg PUBLIC \"-//W3C//DTD SVG 1.1//EN\"\n  \"http://www.w3.org/Graphics/SVG/1.1/DTD/svg11.dtd\">\n<!-- Created with matplotlib (https://matplotlib.org/) -->\n<svg height=\"231.84pt\" version=\"1.1\" viewBox=\"0 0 231.84 231.84\" width=\"231.84pt\" xmlns=\"http://www.w3.org/2000/svg\" xmlns:xlink=\"http://www.w3.org/1999/xlink\">\n <metadata>\n  <rdf:RDF xmlns:cc=\"http://creativecommons.org/ns#\" xmlns:dc=\"http://purl.org/dc/elements/1.1/\" xmlns:rdf=\"http://www.w3.org/1999/02/22-rdf-syntax-ns#\">\n   <cc:Work>\n    <dc:type rdf:resource=\"http://purl.org/dc/dcmitype/StillImage\"/>\n    <dc:date>2020-11-18T16:27:25.538791</dc:date>\n    <dc:format>image/svg+xml</dc:format>\n    <dc:creator>\n     <cc:Agent>\n      <dc:title>Matplotlib v3.3.3, https://matplotlib.org/</dc:title>\n     </cc:Agent>\n    </dc:creator>\n   </cc:Work>\n  </rdf:RDF>\n </metadata>\n <defs>\n  <style type=\"text/css\">*{stroke-linecap:butt;stroke-linejoin:round;}</style>\n </defs>\n <g id=\"figure_1\">\n  <g id=\"patch_1\">\n   <path d=\"M 0 231.84 \nL 231.84 231.84 \nL 231.84 0 \nL 0 0 \nz\n\" style=\"fill:none;\"/>\n  </g>\n  <g id=\"axes_1\">\n   <g clip-path=\"url(#p73f39b7bcd)\">\n    <image height=\"218\" id=\"imagee8d668e21c\" transform=\"scale(1 -1)translate(0 -218)\" width=\"218\" x=\"7.2\" xlink:href=\"data:image/png;base64,\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\" y=\"-6.64\"/>\n   </g>\n  </g>\n </g>\n <defs>\n  <clipPath id=\"p73f39b7bcd\">\n   <rect height=\"217.44\" width=\"217.44\" x=\"7.2\" y=\"7.2\"/>\n  </clipPath>\n </defs>\n</svg>\n",
      "image/png": "[encoded data removed]"
     },
     "metadata": {
      "needs_background": "light"
     }
    },
    {
     "output_type": "display_data",
     "data": {
      "text/plain": "<Figure size 432x288 with 1 Axes>",
      "image/svg+xml": "<?xml version=\"1.0\" encoding=\"utf-8\" standalone=\"no\"?>\n<!DOCTYPE svg PUBLIC \"-//W3C//DTD SVG 1.1//EN\"\n  \"http://www.w3.org/Graphics/SVG/1.1/DTD/svg11.dtd\">\n<!-- Created with matplotlib (https://matplotlib.org/) -->\n<svg height=\"231.84pt\" version=\"1.1\" viewBox=\"0 0 231.84 231.84\" width=\"231.84pt\" xmlns=\"http://www.w3.org/2000/svg\" xmlns:xlink=\"http://www.w3.org/1999/xlink\">\n <metadata>\n  <rdf:RDF xmlns:cc=\"http://creativecommons.org/ns#\" xmlns:dc=\"http://purl.org/dc/elements/1.1/\" xmlns:rdf=\"http://www.w3.org/1999/02/22-rdf-syntax-ns#\">\n   <cc:Work>\n    <dc:type rdf:resource=\"http://purl.org/dc/dcmitype/StillImage\"/>\n    <dc:date>2020-11-18T16:27:25.613613</dc:date>\n    <dc:format>image/svg+xml</dc:format>\n    <dc:creator>\n     <cc:Agent>\n      <dc:title>Matplotlib v3.3.3, https://matplotlib.org/</dc:title>\n     </cc:Agent>\n    </dc:creator>\n   </cc:Work>\n  </rdf:RDF>\n </metadata>\n <defs>\n  <style type=\"text/css\">*{stroke-linecap:butt;stroke-linejoin:round;}</style>\n </defs>\n <g id=\"figure_1\">\n  <g id=\"patch_1\">\n   <path d=\"M 0 231.84 \nL 231.84 231.84 \nL 231.84 0 \nL 0 0 \nz\n\" style=\"fill:none;\"/>\n  </g>\n  <g id=\"axes_1\">\n   <g clip-path=\"url(#pe837d89de8)\">\n    <image height=\"218\" id=\"image86f3003d43\" transform=\"scale(1 -1)translate(0 -218)\" width=\"218\" x=\"7.2\" xlink:href=\"data:image/png;base64,\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\" y=\"-6.64\"/>\n   </g>\n  </g>\n </g>\n <defs>\n  <clipPath id=\"pe837d89de8\">\n   <rect height=\"217.44\" width=\"217.44\" x=\"7.2\" y=\"7.2\"/>\n  </clipPath>\n </defs>\n</svg>\n",
      "image/png": "[encoded data removed]"
     },
     "metadata": {
      "needs_background": "light"
     }
    }
   ],
   "source": [
    "# understanding the data\n",
    "def print_data(data):\n",
    "    for line in data:\n",
    "        print(line)\n",
    "        print('----------------')\n",
    "\n",
    "# cleaner printing\n",
    "def print_drawing(drawing):\n",
    "    plt.imshow(drawing.reshape((28,28)), cmap='Greys')\n",
    "    plt.axis('off')\n",
    "    plt.show()\n",
    "\n",
    "for drawing in apple_data[:2]:\n",
    "    print_drawing(drawing)\n"
   ]
  },
  {
   "cell_type": "code",
   "execution_count": 5,
   "metadata": {},
   "outputs": [],
   "source": [
    "# randomizing the data\n",
    "np.random.shuffle(apple_data)\n",
    "np.random.shuffle(bread_data)\n",
    "np.random.shuffle(broccoli_data)\n",
    "np.random.shuffle(sandwich_data)\n",
    "\n",
    "# splitting into test and train\n",
    "train_percent = 0.8\n",
    "\n",
    "apple_cutoff = math.floor(len(apple_data) * train_percent)\n",
    "apple_trainX = apple_data[:apple_cutoff]\n",
    "apple_trainY = np.tile([1,0,0,0], (len(apple_trainX),1))\n",
    "apple_testX = apple_data[apple_cutoff:]\n",
    "apple_testY = np.tile([1,0,0,0], (len(apple_testX),1))\n",
    "\n",
    "bread_cutoff = math.floor(len(bread_data) * train_percent)\n",
    "bread_trainX = bread_data[:bread_cutoff]\n",
    "bread_trainY = np.tile([0,1,0,0], (len(bread_trainX),1))\n",
    "bread_testX = bread_data[bread_cutoff:]\n",
    "bread_testY = np.tile([0,1,0,0], (len(bread_testX),1))\n",
    "\n",
    "broccoli_cutoff = math.floor(len(broccoli_data) * train_percent)\n",
    "broccoli_trainX = broccoli_data[:broccoli_cutoff]\n",
    "broccoli_trainY = np.tile([0,0,1,0], (len(broccoli_trainX),1))\n",
    "broccoli_testX = broccoli_data[broccoli_cutoff:]\n",
    "broccoli_testY = np.tile([0,0,1,0], (len(broccoli_testX),1))\n",
    "\n",
    "sandwich_cutoff = math.floor(len(sandwich_data) * train_percent)\n",
    "sandwich_trainX = sandwich_data[:sandwich_cutoff]\n",
    "sandwich_trainY = np.tile([0,0,0,1], (len(sandwich_trainX),1))\n",
    "sandwich_testX = sandwich_data[sandwich_cutoff:]\n",
    "sandwich_testY = np.tile([0,0,0,1], (len(sandwich_testX),1))\n",
    "\n",
    "# building the training and testing arrays\n",
    "X_train = np.concatenate((apple_trainX, bread_trainX, broccoli_trainX, sandwich_trainX))\n",
    "Y_train = np.concatenate((apple_trainY, bread_trainY, broccoli_trainY, sandwich_trainY))\n",
    "X_test = np.concatenate((apple_testX, bread_testX, broccoli_testX, sandwich_testX))\n",
    "Y_test = np.concatenate((apple_testY, bread_testY, broccoli_testY, sandwich_testY))"
   ]
  },
  {
   "cell_type": "code",
   "execution_count": 6,
   "metadata": {},
   "outputs": [],
   "source": [
    "# normalize the X data\n",
    "X_train = X_train.astype('float32')\n",
    "X_test = X_test.astype('float32')\n",
    "X_train /= 255\n",
    "X_test /= 255"
   ]
  },
  {
   "cell_type": "code",
   "execution_count": 7,
   "metadata": {},
   "outputs": [],
   "source": [
    "# building out the model\n",
    "model = keras.models.Sequential()\n",
    "\n",
    "# adding the first hidden layer\n",
    "model.add(layers.Dense(512, input_shape=(784,)))\n",
    "model.add(layers.Activation('relu'))                            \n",
    "model.add(layers.Dropout(0.2))\n",
    "\n",
    "# adding the second hidden layer\n",
    "model.add(layers.Dense(512))\n",
    "model.add(layers.Activation('relu'))\n",
    "model.add(layers.Dropout(0.2))\n",
    "\n",
    "# adding the output layer\n",
    "model.add(layers.Dense(4))\n",
    "model.add(layers.Activation('softmax'))"
   ]
  },
  {
   "cell_type": "code",
   "execution_count": 8,
   "metadata": {},
   "outputs": [],
   "source": [
    "# compiling the model\n",
    "model.compile(loss='categorical_crossentropy', metrics=['accuracy'], optimizer='adam')"
   ]
  },
  {
   "cell_type": "code",
   "execution_count": 9,
   "metadata": {},
   "outputs": [
    {
     "output_type": "stream",
     "name": "stdout",
     "text": [
      "Epoch 1/20\n",
      "3312/3312 - 14s - loss: 0.2134 - accuracy: 0.9299 - val_loss: 0.1738 - val_accuracy: 0.9422\n",
      "Epoch 2/20\n",
      "3312/3312 - 13s - loss: 0.1652 - accuracy: 0.9450 - val_loss: 0.1546 - val_accuracy: 0.9492\n",
      "Epoch 3/20\n",
      "3312/3312 - 13s - loss: 0.1487 - accuracy: 0.9506 - val_loss: 0.1463 - val_accuracy: 0.9509\n",
      "Epoch 4/20\n",
      "3312/3312 - 14s - loss: 0.1367 - accuracy: 0.9540 - val_loss: 0.1494 - val_accuracy: 0.9498\n",
      "Epoch 5/20\n",
      "3312/3312 - 13s - loss: 0.1284 - accuracy: 0.9567 - val_loss: 0.1460 - val_accuracy: 0.9516\n",
      "Epoch 6/20\n",
      "3312/3312 - 13s - loss: 0.1195 - accuracy: 0.9596 - val_loss: 0.1466 - val_accuracy: 0.9520\n",
      "Epoch 7/20\n",
      "3312/3312 - 14s - loss: 0.1141 - accuracy: 0.9610 - val_loss: 0.1433 - val_accuracy: 0.9529\n",
      "Epoch 8/20\n",
      "3312/3312 - 16s - loss: 0.1081 - accuracy: 0.9628 - val_loss: 0.1504 - val_accuracy: 0.9516\n",
      "Epoch 9/20\n",
      "3312/3312 - 16s - loss: 0.1031 - accuracy: 0.9643 - val_loss: 0.1493 - val_accuracy: 0.9523\n",
      "Epoch 10/20\n",
      "3312/3312 - 16s - loss: 0.0984 - accuracy: 0.9653 - val_loss: 0.1493 - val_accuracy: 0.9533\n",
      "Epoch 11/20\n",
      "3312/3312 - 15s - loss: 0.0934 - accuracy: 0.9672 - val_loss: 0.1548 - val_accuracy: 0.9521\n",
      "Epoch 12/20\n",
      "3312/3312 - 14s - loss: 0.0907 - accuracy: 0.9681 - val_loss: 0.1593 - val_accuracy: 0.9527\n",
      "Epoch 13/20\n",
      "3312/3312 - 14s - loss: 0.0868 - accuracy: 0.9694 - val_loss: 0.1616 - val_accuracy: 0.9528\n",
      "Epoch 14/20\n",
      "3312/3312 - 17s - loss: 0.0834 - accuracy: 0.9705 - val_loss: 0.1637 - val_accuracy: 0.9528\n",
      "Epoch 15/20\n",
      "3312/3312 - 15s - loss: 0.0814 - accuracy: 0.9710 - val_loss: 0.1667 - val_accuracy: 0.9524\n",
      "Epoch 16/20\n",
      "3312/3312 - 15s - loss: 0.0782 - accuracy: 0.9724 - val_loss: 0.1698 - val_accuracy: 0.9519\n",
      "Epoch 17/20\n",
      "3312/3312 - 14s - loss: 0.0766 - accuracy: 0.9726 - val_loss: 0.1744 - val_accuracy: 0.9526\n",
      "Epoch 18/20\n",
      "3312/3312 - 13s - loss: 0.0742 - accuracy: 0.9735 - val_loss: 0.1754 - val_accuracy: 0.9527\n",
      "Epoch 19/20\n",
      "3312/3312 - 13s - loss: 0.0724 - accuracy: 0.9742 - val_loss: 0.1825 - val_accuracy: 0.9521\n",
      "Epoch 20/20\n",
      "3312/3312 - 13s - loss: 0.0706 - accuracy: 0.9746 - val_loss: 0.1834 - val_accuracy: 0.9517\n"
     ]
    }
   ],
   "source": [
    "# training the model\n",
    "history = model.fit(X_train, Y_train,\n",
    "          batch_size=128, epochs=20,\n",
    "          verbose=2,\n",
    "          validation_data=(X_test, Y_test))"
   ]
  },
  {
   "cell_type": "code",
   "execution_count": null,
   "metadata": {},
   "outputs": [],
   "source": []
  },
  {
   "cell_type": "code",
   "execution_count": null,
   "metadata": {},
   "outputs": [],
   "source": []
  }
 ],
 "metadata": {
  "kernelspec": {
   "name": "python3",
   "display_name": "Python 3.7.3 64-bit ('hcs-f20-ml')",
   "metadata": {
    "interpreter": {
     "hash": "6b32fa1551e8e59e7d2bdbe33b6de5113238380f5823e84f6f1ffed633636794"
    }
   }
  },
  "language_info": {
   "codemirror_mode": {
    "name": "ipython",
    "version": 3
   },
   "file_extension": ".py",
   "mimetype": "text/x-python",
   "name": "python",
   "nbconvert_exporter": "python",
   "pygments_lexer": "ipython3",
   "version": "3.7.3-final"
  }
 },
 "nbformat": 4,
 "nbformat_minor": 2
}