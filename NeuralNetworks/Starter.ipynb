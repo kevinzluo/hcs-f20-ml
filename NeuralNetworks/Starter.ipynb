{
 "cells": [
  {
   "cell_type": "code",
   "execution_count": 1,
   "metadata": {},
   "outputs": [],
   "source": [
    "# import required libraries\n",
    "import numpy as np\n",
    "import pandas as pd\n",
    "import matplotlib.pyplot as plt\n",
    "import tensorflow as tf\n",
    "from tensorflow import keras\n",
    "from tensorflow.keras import layers\n",
    "import math"
   ]
  },
  {
   "cell_type": "code",
   "execution_count": 43,
   "metadata": {},
   "outputs": [
    {
     "output_type": "execute_result",
     "data": {
      "text/plain": [
       "array([['T'],\n",
       "       ['I'],\n",
       "       ['D'],\n",
       "       ...,\n",
       "       ['T'],\n",
       "       ['S'],\n",
       "       ['A']], dtype=object)"
      ]
     },
     "metadata": {},
     "execution_count": 43
    }
   ],
   "source": [
    "# loading the data\n",
    "df = pd.read_csv(\"letter-recognition-1.data\", header=None)\n",
    "df.columns = range(0, df.shape[1])\n",
    "labels = df.iloc[:, [0]]\n",
    "data  = df.iloc[:, 1:]\n",
    "\n",
    "labels.to_numpy()"
   ]
  },
  {
   "cell_type": "code",
   "execution_count": 51,
   "metadata": {},
   "outputs": [
    {
     "output_type": "execute_result",
     "data": {
      "text/plain": [
       "16"
      ]
     },
     "metadata": {},
     "execution_count": 51
    }
   ],
   "source": [
    "def expand(s):\n",
    "    arr = np.zeros(26)\n",
    "    arr[ord(s[0]) - ord(\"A\")] = 1\n",
    "    return arr\n",
    "\n",
    "labels_arr = np.array([expand(s) for s in labels.to_numpy()])\n",
    "data_arr = data.to_numpy()\n",
    "len(data_arr[0])"
   ]
  },
  {
   "cell_type": "code",
   "execution_count": 65,
   "metadata": {},
   "outputs": [],
   "source": [
    "# randomizing the data\n",
    "p = np.random.permutation(len(labels_arr))\n",
    "labels_shuffled = labels_arr[p]\n",
    "data_shuffled = data_arr[p]\n",
    "\n",
    "# splitting into test and train\n",
    "cutoff = math.floor(len(labels_arr) * 0.8)\n",
    "\n",
    "X_train = data_shuffled[:cutoff]\n",
    "Y_train = labels_shuffled[:cutoff]\n",
    "\n",
    "X_train = X_train.astype('float32')\n",
    "X_train /= 16\n",
    "\n",
    "X_test = data_shuffled[cutoff:]\n",
    "X_test = X_test.astype('float32')\n",
    "X_test /= 16\n",
    "\n",
    "Y_test = labels_shuffled[cutoff:]"
   ]
  },
  {
   "cell_type": "code",
   "execution_count": 72,
   "metadata": {},
   "outputs": [],
   "source": [
    "# data is already normalized\n",
    "\n",
    "# building out the model\n",
    "model = keras.models.Sequential()\n",
    "\n",
    "# adding the first hidden layer\n",
    "model.add(layers.Dense(512, input_shape=(len(data_arr[0]),)))\n",
    "model.add(layers.Activation('relu'))                            \n",
    "model.add(layers.Dropout(0.2))\n",
    "\n",
    "# adding the second hidden layer\n",
    "model.add(layers.Dense(512))\n",
    "model.add(layers.Activation('relu'))\n",
    "model.add(layers.Dropout(0.2))\n",
    "\n",
    "# adding the output layer\n",
    "model.add(layers.Dense(26))\n",
    "model.add(layers.Activation('softmax'))"
   ]
  },
  {
   "cell_type": "code",
   "execution_count": 73,
   "metadata": {},
   "outputs": [],
   "source": [
    "# compiling the model\n",
    "model.compile(loss='categorical_crossentropy', metrics=['accuracy'], optimizer='adam')"
   ]
  },
  {
   "cell_type": "code",
   "execution_count": 74,
   "metadata": {},
   "outputs": [
    {
     "output_type": "stream",
     "name": "stdout",
     "text": [
      "Epoch 1/25\n",
      "500/500 - 2s - loss: 1.7358 - accuracy: 0.5041 - val_loss: 1.1052 - val_accuracy: 0.6835\n",
      "Epoch 2/25\n",
      "500/500 - 2s - loss: 1.0189 - accuracy: 0.6996 - val_loss: 0.8378 - val_accuracy: 0.7575\n",
      "Epoch 3/25\n",
      "500/500 - 2s - loss: 0.8209 - accuracy: 0.7515 - val_loss: 0.6907 - val_accuracy: 0.7975\n",
      "Epoch 4/25\n",
      "500/500 - 2s - loss: 0.6917 - accuracy: 0.7877 - val_loss: 0.6113 - val_accuracy: 0.8087\n",
      "Epoch 5/25\n",
      "500/500 - 1s - loss: 0.6045 - accuracy: 0.8127 - val_loss: 0.5027 - val_accuracy: 0.8428\n",
      "Epoch 6/25\n",
      "500/500 - 1s - loss: 0.5272 - accuracy: 0.8365 - val_loss: 0.4515 - val_accuracy: 0.8560\n",
      "Epoch 7/25\n",
      "500/500 - 2s - loss: 0.4685 - accuracy: 0.8526 - val_loss: 0.3942 - val_accuracy: 0.8817\n",
      "Epoch 8/25\n",
      "500/500 - 2s - loss: 0.4329 - accuracy: 0.8637 - val_loss: 0.3598 - val_accuracy: 0.8935\n",
      "Epoch 9/25\n",
      "500/500 - 2s - loss: 0.3918 - accuracy: 0.8738 - val_loss: 0.3133 - val_accuracy: 0.9112\n",
      "Epoch 10/25\n",
      "500/500 - 2s - loss: 0.3692 - accuracy: 0.8844 - val_loss: 0.3025 - val_accuracy: 0.9072\n",
      "Epoch 11/25\n",
      "500/500 - 2s - loss: 0.3347 - accuracy: 0.8930 - val_loss: 0.2901 - val_accuracy: 0.9087\n",
      "Epoch 12/25\n",
      "500/500 - 2s - loss: 0.3087 - accuracy: 0.9013 - val_loss: 0.2631 - val_accuracy: 0.9195\n",
      "Epoch 13/25\n",
      "500/500 - 1s - loss: 0.2919 - accuracy: 0.9022 - val_loss: 0.2408 - val_accuracy: 0.9258\n",
      "Epoch 14/25\n",
      "500/500 - 2s - loss: 0.2754 - accuracy: 0.9101 - val_loss: 0.2224 - val_accuracy: 0.9308\n",
      "Epoch 15/25\n",
      "500/500 - 2s - loss: 0.2619 - accuracy: 0.9147 - val_loss: 0.2228 - val_accuracy: 0.9302\n",
      "Epoch 16/25\n",
      "500/500 - 2s - loss: 0.2488 - accuracy: 0.9183 - val_loss: 0.1843 - val_accuracy: 0.9452\n",
      "Epoch 17/25\n",
      "500/500 - 2s - loss: 0.2299 - accuracy: 0.9258 - val_loss: 0.1785 - val_accuracy: 0.9450\n",
      "Epoch 18/25\n",
      "500/500 - 2s - loss: 0.2158 - accuracy: 0.9277 - val_loss: 0.1793 - val_accuracy: 0.9465\n",
      "Epoch 19/25\n",
      "500/500 - 2s - loss: 0.2139 - accuracy: 0.9287 - val_loss: 0.1887 - val_accuracy: 0.9370\n",
      "Epoch 20/25\n",
      "500/500 - 1s - loss: 0.2031 - accuracy: 0.9319 - val_loss: 0.1560 - val_accuracy: 0.9515\n",
      "Epoch 21/25\n",
      "500/500 - 2s - loss: 0.1976 - accuracy: 0.9345 - val_loss: 0.1801 - val_accuracy: 0.9402\n",
      "Epoch 22/25\n",
      "500/500 - 1s - loss: 0.1935 - accuracy: 0.9333 - val_loss: 0.1513 - val_accuracy: 0.9490\n",
      "Epoch 23/25\n",
      "500/500 - 1s - loss: 0.1811 - accuracy: 0.9392 - val_loss: 0.1533 - val_accuracy: 0.9463\n",
      "Epoch 24/25\n",
      "500/500 - 1s - loss: 0.1747 - accuracy: 0.9404 - val_loss: 0.1471 - val_accuracy: 0.9505\n",
      "Epoch 25/25\n",
      "500/500 - 1s - loss: 0.1727 - accuracy: 0.9398 - val_loss: 0.1428 - val_accuracy: 0.9540\n"
     ]
    }
   ],
   "source": [
    "# training the model\n",
    "history = model.fit(X_train, Y_train,\n",
    "          batch_size=32, epochs=25,\n",
    "          verbose=2,\n",
    "          validation_data=(X_test, Y_test))"
   ]
  },
  {
   "cell_type": "code",
   "execution_count": 53,
   "metadata": {},
   "outputs": [
    {
     "output_type": "execute_result",
     "data": {
      "text/plain": [
       "(4000, 16)"
      ]
     },
     "metadata": {},
     "execution_count": 53
    }
   ],
   "source": [
    "X_test.shape"
   ]
  },
  {
   "cell_type": "code",
   "execution_count": 54,
   "metadata": {},
   "outputs": [
    {
     "output_type": "execute_result",
     "data": {
      "text/plain": [
       "(4000, 16)"
      ]
     },
     "metadata": {},
     "execution_count": 54
    }
   ],
   "source": [
    "Y_test.shape"
   ]
  },
  {
   "cell_type": "code",
   "execution_count": null,
   "metadata": {},
   "outputs": [],
   "source": []
  }
 ],
 "metadata": {
  "kernelspec": {
   "display_name": "Python 3",
   "language": "python",
   "name": "python3"
  },
  "language_info": {
   "codemirror_mode": {
    "name": "ipython",
    "version": 3
   },
   "file_extension": ".py",
   "mimetype": "text/x-python",
   "name": "python",
   "nbconvert_exporter": "python",
   "pygments_lexer": "ipython3",
   "version": "3.7.3-final"
  }
 },
 "nbformat": 4,
 "nbformat_minor": 2
}